{
 "cells": [
  {
   "cell_type": "markdown",
   "id": "593ba3f3",
   "metadata": {},
   "source": [
    "## Preprocessing Baseline\n",
    "\n",
    "사용자가 수신한 SMS가 전처리되는 과정을 보여주는 코드"
   ]
  },
  {
   "cell_type": "code",
   "execution_count": 1,
   "id": "c63786bf",
   "metadata": {
    "ExecuteTime": {
     "end_time": "2022-12-05T08:50:02.426482Z",
     "start_time": "2022-12-05T08:50:02.158692Z"
    }
   },
   "outputs": [],
   "source": [
    "import pandas as pd\n",
    "import re"
   ]
  },
  {
   "cell_type": "code",
   "execution_count": 2,
   "id": "510d199f",
   "metadata": {
    "ExecuteTime": {
     "end_time": "2022-12-05T08:50:02.431557Z",
     "start_time": "2022-12-05T08:50:02.428178Z"
    }
   },
   "outputs": [],
   "source": [
    "SPECIALS = \"\".join([\",\", \";\", \":\", \"!\", '\"', \"?\", \"+\",\"#\", \"'\", '$','%','&','(',')','-','/',' '])  # 허용할 특수 문자\n",
    "\n",
    "\n",
    "def preprocess(text: str, only_kor: bool=True):\n",
    "    \"\"\"한국어 문장을 옵션에 맞게 전처리\"\"\"\n",
    "    # 한국어 모음과 특수 문자, 숫자 및 영어 제거\n",
    "    if only_kor:\n",
    "        text = re.sub(f\"[^가-힣| |]+\", \"\", text)\n",
    "    else:\n",
    "        text = re.sub(f\"[^가-힣|ㄱ-ㅎ|0-9|{SPECIALS}|]+\", \"\", text)  # f-문자열을 적용시켜 SPECIALS를 넣어줌.\n",
    "    \n",
    "    # 연속 공백 제거\n",
    "    text = re.sub(\" +\", \" \", text)\n",
    "    \n",
    "    # 좌우 불필요한 공백 제거\n",
    "    return text.strip()"
   ]
  },
  {
   "cell_type": "code",
   "execution_count": 3,
   "id": "8c657c4a",
   "metadata": {
    "ExecuteTime": {
     "end_time": "2022-12-05T08:50:02.449581Z",
     "start_time": "2022-12-05T08:50:02.434246Z"
    }
   },
   "outputs": [],
   "source": [
    "def url_encode(text: str):\n",
    "    \"메시지 상에 존재하는 url을 [url] 토큰으로 만들기\"\n",
    "    \n",
    "    # URL 추출할 정규표현식 생성\n",
    "    url_regex = r\"(https?:\\/\\/)?(www\\.)?[-a-zA-Z0-9@:%._\\+~#=]{2,256}\\.[a-z]{2,6}\\b([-a-zA-Z0-9@:%_\\+.~#?&\\/\\/=]*)\"\n",
    "\n",
    "    reg = re.compile(url_regex)\n",
    "    \n",
    "    res = reg.search(text)\n",
    "    \n",
    "    if res == None:\n",
    "        return text\n",
    "    \n",
    "    else:\n",
    "        indexes = res.span()\n",
    "        \n",
    "        url_txt = text[indexes[0]:indexes[1]]\n",
    "        \n",
    "        return text.replace(url_txt, \" 윪 \")"
   ]
  },
  {
   "cell_type": "markdown",
   "id": "59b14783",
   "metadata": {},
   "source": [
    "## 전처리 동작 예시"
   ]
  },
  {
   "cell_type": "code",
   "execution_count": 4,
   "id": "ce4dc55d",
   "metadata": {
    "ExecuteTime": {
     "end_time": "2022-12-05T08:50:02.459081Z",
     "start_time": "2022-12-05T08:50:02.450891Z"
    }
   },
   "outputs": [],
   "source": [
    "SMS = \"야 오버워치(OVERWATCH)2 해봄? 지금 <이벤트>도 하는데 같이 하자!! \\\n",
    "https://overwatch.blizzard.com/ko-kr/news/\"  # SMS 예시"
   ]
  },
  {
   "cell_type": "code",
   "execution_count": 5,
   "id": "7203ba3c",
   "metadata": {
    "ExecuteTime": {
     "end_time": "2022-12-05T08:50:02.470684Z",
     "start_time": "2022-12-05T08:50:02.460482Z"
    }
   },
   "outputs": [],
   "source": [
    "url_encoded = url_encode(SMS)\n",
    "preprocessed = preprocess(url_encoded, True)\n",
    "input_text = preprocessed.replace('윪','[URL]') "
   ]
  },
  {
   "cell_type": "code",
   "execution_count": 6,
   "id": "b645b1f0",
   "metadata": {
    "ExecuteTime": {
     "end_time": "2022-12-05T08:50:02.495842Z",
     "start_time": "2022-12-05T08:50:02.474868Z"
    }
   },
   "outputs": [
    {
     "data": {
      "text/plain": [
       "'야 오버워치 해봄 지금 이벤트도 하는데 같이 하자 [URL]'"
      ]
     },
     "execution_count": 6,
     "metadata": {},
     "output_type": "execute_result"
    }
   ],
   "source": [
    "input_text"
   ]
  },
  {
   "cell_type": "code",
   "execution_count": null,
   "id": "7be3b7ae",
   "metadata": {},
   "outputs": [],
   "source": []
  }
 ],
 "metadata": {
  "kernelspec": {
   "display_name": "Python 3 - tf",
   "language": "python",
   "name": "python3-tf"
  },
  "language_info": {
   "codemirror_mode": {
    "name": "ipython",
    "version": 3
   },
   "file_extension": ".py",
   "mimetype": "text/x-python",
   "name": "python",
   "nbconvert_exporter": "python",
   "pygments_lexer": "ipython3",
   "version": "3.8.10"
  },
  "varInspector": {
   "cols": {
    "lenName": 16,
    "lenType": 16,
    "lenVar": 40
   },
   "kernels_config": {
    "python": {
     "delete_cmd_postfix": "",
     "delete_cmd_prefix": "del ",
     "library": "var_list.py",
     "varRefreshCmd": "print(var_dic_list())"
    },
    "r": {
     "delete_cmd_postfix": ") ",
     "delete_cmd_prefix": "rm(",
     "library": "var_list.r",
     "varRefreshCmd": "cat(var_dic_list()) "
    }
   },
   "types_to_exclude": [
    "module",
    "function",
    "builtin_function_or_method",
    "instance",
    "_Feature"
   ],
   "window_display": false
  }
 },
 "nbformat": 4,
 "nbformat_minor": 5
}
