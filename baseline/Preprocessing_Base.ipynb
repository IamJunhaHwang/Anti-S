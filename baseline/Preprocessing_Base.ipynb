{
 "cells": [
  {
   "cell_type": "markdown",
   "id": "593ba3f3",
   "metadata": {},
   "source": [
    "## Preprocessing Baseline\n",
    "\n",
    "사용자가 수신한 SMS가 전처리되는 과정을 보여주는 코드"
   ]
  },
  {
   "cell_type": "code",
   "execution_count": 1,
   "id": "c63786bf",
   "metadata": {
    "ExecuteTime": {
     "end_time": "2022-10-22T07:58:53.204958Z",
     "start_time": "2022-10-22T07:58:52.984494Z"
    }
   },
   "outputs": [],
   "source": [
    "import pandas as pd\n",
    "import re"
   ]
  },
  {
   "cell_type": "code",
   "execution_count": 2,
   "id": "510d199f",
   "metadata": {
    "ExecuteTime": {
     "end_time": "2022-10-22T08:00:51.518135Z",
     "start_time": "2022-10-22T08:00:51.511231Z"
    }
   },
   "outputs": [],
   "source": [
    "SPECIALS = \"\".join([\",\", \";\", \":\", \"!\", '\"', \"?\", \"+\",\"#\", \"'\", '$','%','&','(',')','-','/',' '])  # 허용할 특수 문자\n",
    "\n",
    "\n",
    "def preprocess(text: str, only_kor: bool=True):\n",
    "    \"\"\"한국어 문장을 옵션에 맞게 전처리\"\"\"\n",
    "    # 한국어 모음과 특수 문자, 숫자 및 영어 제거\n",
    "    if only_kor:\n",
    "        text = re.sub(f\"[^가-힣| |]+\", \"\", text)\n",
    "    else:\n",
    "        text = re.sub(f\"[^가-힣|ㄱ-ㅎ|0-9|{SPECIALS}|]+\", \"\", text)  # f-문자열을 적용시켜 SPECIALS를 넣어줌.\n",
    "    \n",
    "    # 연속 공백 제거\n",
    "    text = re.sub(\" +\", \" \", text)\n",
    "    \n",
    "    # 좌우 불필요한 공백 제거\n",
    "    return text.strip()"
   ]
  },
  {
   "cell_type": "code",
   "execution_count": 6,
   "id": "8c657c4a",
   "metadata": {
    "ExecuteTime": {
     "end_time": "2022-10-22T08:03:25.789214Z",
     "start_time": "2022-10-22T08:03:25.775419Z"
    }
   },
   "outputs": [],
   "source": [
    "def url_encode(text: str):\n",
    "    \"메시지 상에 존재하는 url을 [url] 토큰으로 만들기\"\n",
    "    \n",
    "    url = ['http','www','.com']\n",
    "\n",
    "    for n, u in enumerate(url):\n",
    "        idx = text.find(u)\n",
    "        \n",
    "        if idx == -1 and n==2:\n",
    "            return text\n",
    "        \n",
    "        elif idx == -1:\n",
    "            continue\n",
    "        \n",
    "            \n",
    "        if(n==0 or n==1):  # http, www\n",
    "            start = idx\n",
    "            \n",
    "            tmp = text[idx]\n",
    "            while(tmp!=' '):\n",
    "                idx +=1\n",
    "                if(idx == len(text)):\n",
    "                    #idx -=1\n",
    "                    break\n",
    "                tmp = text[idx]\n",
    "                \n",
    "            end = idx\n",
    "            \n",
    "            link = text[start:end]\n",
    "            res = text[:start] + \"윪\" + text[end:]\n",
    "            return res\n",
    "            \n",
    "        else:  # .com\n",
    "            end = idx+4\n",
    "            \n",
    "            tmp = text[idx]\n",
    "            while(tmp!=' '):\n",
    "                idx -=1\n",
    "                if(idx < 0):\n",
    "                    idx = 0\n",
    "                    break\n",
    "                tmp = text[idx]\n",
    "                \n",
    "            start = idx+1\n",
    "            \n",
    "            link = text[start:end]\n",
    "            res = text[:start] + \"윪\" + text[end:]\n",
    "            return res"
   ]
  },
  {
   "cell_type": "markdown",
   "id": "59b14783",
   "metadata": {},
   "source": [
    "## 전처리 동작 예시"
   ]
  },
  {
   "cell_type": "code",
   "execution_count": 10,
   "id": "ce4dc55d",
   "metadata": {
    "ExecuteTime": {
     "end_time": "2022-10-22T08:06:42.569873Z",
     "start_time": "2022-10-22T08:06:42.567151Z"
    }
   },
   "outputs": [],
   "source": [
    "SMS = \"야 오버워치(OVERWATCH)2 해봄? 지금 <이벤트>도 하는데 같이 하자!! \\\n",
    "https://overwatch.blizzard.com/ko-kr/news/\"  # SMS 예시"
   ]
  },
  {
   "cell_type": "code",
   "execution_count": 11,
   "id": "7203ba3c",
   "metadata": {
    "ExecuteTime": {
     "end_time": "2022-10-22T08:06:42.979297Z",
     "start_time": "2022-10-22T08:06:42.974768Z"
    }
   },
   "outputs": [],
   "source": [
    "url_encoded = url_encode(SMS)\n",
    "preprocessed = preprocess(url_encoded, False)\n",
    "input_text = preprocessed.replace('윪','[URL]') "
   ]
  },
  {
   "cell_type": "code",
   "execution_count": 12,
   "id": "b645b1f0",
   "metadata": {
    "ExecuteTime": {
     "end_time": "2022-10-22T08:06:43.324160Z",
     "start_time": "2022-10-22T08:06:43.319082Z"
    }
   },
   "outputs": [
    {
     "data": {
      "text/plain": [
       "'야 오버워치()2 해봄? 지금 이벤트도 하는데 같이 하자!! [URL]'"
      ]
     },
     "execution_count": 12,
     "metadata": {},
     "output_type": "execute_result"
    }
   ],
   "source": [
    "input_text"
   ]
  }
 ],
 "metadata": {
  "kernelspec": {
   "display_name": "Python 3 - tf",
   "language": "python",
   "name": "python3-tf"
  },
  "language_info": {
   "codemirror_mode": {
    "name": "ipython",
    "version": 3
   },
   "file_extension": ".py",
   "mimetype": "text/x-python",
   "name": "python",
   "nbconvert_exporter": "python",
   "pygments_lexer": "ipython3",
   "version": "3.8.10"
  },
  "varInspector": {
   "cols": {
    "lenName": 16,
    "lenType": 16,
    "lenVar": 40
   },
   "kernels_config": {
    "python": {
     "delete_cmd_postfix": "",
     "delete_cmd_prefix": "del ",
     "library": "var_list.py",
     "varRefreshCmd": "print(var_dic_list())"
    },
    "r": {
     "delete_cmd_postfix": ") ",
     "delete_cmd_prefix": "rm(",
     "library": "var_list.r",
     "varRefreshCmd": "cat(var_dic_list()) "
    }
   },
   "types_to_exclude": [
    "module",
    "function",
    "builtin_function_or_method",
    "instance",
    "_Feature"
   ],
   "window_display": false
  }
 },
 "nbformat": 4,
 "nbformat_minor": 5
}
